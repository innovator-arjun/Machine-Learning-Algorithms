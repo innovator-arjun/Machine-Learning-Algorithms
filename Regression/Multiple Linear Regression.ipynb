{
 "cells": [
  {
   "cell_type": "code",
   "execution_count": 2,
   "metadata": {},
   "outputs": [],
   "source": [
    "import pandas as pd\n",
    "import matplotlib.pyplot as plt\n",
    "import numpy as np"
   ]
  },
  {
   "cell_type": "code",
   "execution_count": 3,
   "metadata": {},
   "outputs": [],
   "source": [
    "data_startup=pd.read_csv('data/50_Startups.csv')"
   ]
  },
  {
   "cell_type": "code",
   "execution_count": 4,
   "metadata": {},
   "outputs": [
    {
     "data": {
      "text/html": [
       "<div>\n",
       "<style scoped>\n",
       "    .dataframe tbody tr th:only-of-type {\n",
       "        vertical-align: middle;\n",
       "    }\n",
       "\n",
       "    .dataframe tbody tr th {\n",
       "        vertical-align: top;\n",
       "    }\n",
       "\n",
       "    .dataframe thead th {\n",
       "        text-align: right;\n",
       "    }\n",
       "</style>\n",
       "<table border=\"1\" class=\"dataframe\">\n",
       "  <thead>\n",
       "    <tr style=\"text-align: right;\">\n",
       "      <th></th>\n",
       "      <th>R&amp;D Spend</th>\n",
       "      <th>Administration</th>\n",
       "      <th>Marketing Spend</th>\n",
       "      <th>State</th>\n",
       "      <th>Profit</th>\n",
       "    </tr>\n",
       "  </thead>\n",
       "  <tbody>\n",
       "    <tr>\n",
       "      <th>0</th>\n",
       "      <td>165349.20</td>\n",
       "      <td>136897.80</td>\n",
       "      <td>471784.10</td>\n",
       "      <td>New York</td>\n",
       "      <td>192261.83</td>\n",
       "    </tr>\n",
       "    <tr>\n",
       "      <th>1</th>\n",
       "      <td>162597.70</td>\n",
       "      <td>151377.59</td>\n",
       "      <td>443898.53</td>\n",
       "      <td>California</td>\n",
       "      <td>191792.06</td>\n",
       "    </tr>\n",
       "    <tr>\n",
       "      <th>2</th>\n",
       "      <td>153441.51</td>\n",
       "      <td>101145.55</td>\n",
       "      <td>407934.54</td>\n",
       "      <td>Florida</td>\n",
       "      <td>191050.39</td>\n",
       "    </tr>\n",
       "    <tr>\n",
       "      <th>3</th>\n",
       "      <td>144372.41</td>\n",
       "      <td>118671.85</td>\n",
       "      <td>383199.62</td>\n",
       "      <td>New York</td>\n",
       "      <td>182901.99</td>\n",
       "    </tr>\n",
       "    <tr>\n",
       "      <th>4</th>\n",
       "      <td>142107.34</td>\n",
       "      <td>91391.77</td>\n",
       "      <td>366168.42</td>\n",
       "      <td>Florida</td>\n",
       "      <td>166187.94</td>\n",
       "    </tr>\n",
       "  </tbody>\n",
       "</table>\n",
       "</div>"
      ],
      "text/plain": [
       "   R&D Spend  Administration  Marketing Spend       State     Profit\n",
       "0  165349.20       136897.80        471784.10    New York  192261.83\n",
       "1  162597.70       151377.59        443898.53  California  191792.06\n",
       "2  153441.51       101145.55        407934.54     Florida  191050.39\n",
       "3  144372.41       118671.85        383199.62    New York  182901.99\n",
       "4  142107.34        91391.77        366168.42     Florida  166187.94"
      ]
     },
     "execution_count": 4,
     "metadata": {},
     "output_type": "execute_result"
    }
   ],
   "source": [
    "data_startup.head()"
   ]
  },
  {
   "cell_type": "code",
   "execution_count": 5,
   "metadata": {},
   "outputs": [
    {
     "data": {
      "text/plain": [
       "R&D Spend          0\n",
       "Administration     0\n",
       "Marketing Spend    0\n",
       "State              0\n",
       "Profit             0\n",
       "dtype: int64"
      ]
     },
     "execution_count": 5,
     "metadata": {},
     "output_type": "execute_result"
    }
   ],
   "source": [
    "data_startup.isnull().sum()"
   ]
  },
  {
   "cell_type": "code",
   "execution_count": 6,
   "metadata": {},
   "outputs": [],
   "source": [
    "data_startup[['R&D Spend','Administration','Marketing Spend','Profit']]=data_startup[['R&D Spend','Administration','Marketing Spend','Profit']].astype(int)"
   ]
  },
  {
   "cell_type": "code",
   "execution_count": 7,
   "metadata": {},
   "outputs": [
    {
     "data": {
      "text/html": [
       "<div>\n",
       "<style scoped>\n",
       "    .dataframe tbody tr th:only-of-type {\n",
       "        vertical-align: middle;\n",
       "    }\n",
       "\n",
       "    .dataframe tbody tr th {\n",
       "        vertical-align: top;\n",
       "    }\n",
       "\n",
       "    .dataframe thead th {\n",
       "        text-align: right;\n",
       "    }\n",
       "</style>\n",
       "<table border=\"1\" class=\"dataframe\">\n",
       "  <thead>\n",
       "    <tr style=\"text-align: right;\">\n",
       "      <th></th>\n",
       "      <th>R&amp;D Spend</th>\n",
       "      <th>Administration</th>\n",
       "      <th>Marketing Spend</th>\n",
       "      <th>State</th>\n",
       "      <th>Profit</th>\n",
       "    </tr>\n",
       "  </thead>\n",
       "  <tbody>\n",
       "    <tr>\n",
       "      <th>0</th>\n",
       "      <td>165349</td>\n",
       "      <td>136897</td>\n",
       "      <td>471784</td>\n",
       "      <td>New York</td>\n",
       "      <td>192261</td>\n",
       "    </tr>\n",
       "    <tr>\n",
       "      <th>1</th>\n",
       "      <td>162597</td>\n",
       "      <td>151377</td>\n",
       "      <td>443898</td>\n",
       "      <td>California</td>\n",
       "      <td>191792</td>\n",
       "    </tr>\n",
       "    <tr>\n",
       "      <th>2</th>\n",
       "      <td>153441</td>\n",
       "      <td>101145</td>\n",
       "      <td>407934</td>\n",
       "      <td>Florida</td>\n",
       "      <td>191050</td>\n",
       "    </tr>\n",
       "    <tr>\n",
       "      <th>3</th>\n",
       "      <td>144372</td>\n",
       "      <td>118671</td>\n",
       "      <td>383199</td>\n",
       "      <td>New York</td>\n",
       "      <td>182901</td>\n",
       "    </tr>\n",
       "    <tr>\n",
       "      <th>4</th>\n",
       "      <td>142107</td>\n",
       "      <td>91391</td>\n",
       "      <td>366168</td>\n",
       "      <td>Florida</td>\n",
       "      <td>166187</td>\n",
       "    </tr>\n",
       "  </tbody>\n",
       "</table>\n",
       "</div>"
      ],
      "text/plain": [
       "   R&D Spend  Administration  Marketing Spend       State  Profit\n",
       "0     165349          136897           471784    New York  192261\n",
       "1     162597          151377           443898  California  191792\n",
       "2     153441          101145           407934     Florida  191050\n",
       "3     144372          118671           383199    New York  182901\n",
       "4     142107           91391           366168     Florida  166187"
      ]
     },
     "execution_count": 7,
     "metadata": {},
     "output_type": "execute_result"
    }
   ],
   "source": [
    "data_startup.head()\n"
   ]
  },
  {
   "cell_type": "code",
   "execution_count": 8,
   "metadata": {},
   "outputs": [],
   "source": [
    "#[Matrix]#Independent Variable 'R&D Spend','Administration','Marketing Spend',State\n",
    "#{Vector}#Dependent Variable : Profit"
   ]
  },
  {
   "cell_type": "code",
   "execution_count": 10,
   "metadata": {},
   "outputs": [],
   "source": [
    "X=data_startup.iloc[:,:-1].values\n",
    "y=data_startup.iloc[:,4].values"
   ]
  },
  {
   "cell_type": "code",
   "execution_count": 14,
   "metadata": {},
   "outputs": [],
   "source": [
    "from sklearn.preprocessing import LabelEncoder,OneHotEncoder\n"
   ]
  },
  {
   "cell_type": "code",
   "execution_count": 16,
   "metadata": {},
   "outputs": [],
   "source": [
    "labelencoder_X=LabelEncoder()\n",
    "X[:,3]=labelencoder_X.fit_transform(X[:,3])\n",
    "onehotencoder=OneHotEncoder(categorical_features=[3])"
   ]
  },
  {
   "cell_type": "code",
   "execution_count": 18,
   "metadata": {},
   "outputs": [],
   "source": [
    "X=onehotencoder.fit_transform(X).toarray()"
   ]
  },
  {
   "cell_type": "code",
   "execution_count": 20,
   "metadata": {},
   "outputs": [],
   "source": [
    "X=X[:,1:]"
   ]
  },
  {
   "cell_type": "code",
   "execution_count": 21,
   "metadata": {},
   "outputs": [
    {
     "data": {
      "text/plain": [
       "array([[0.00000e+00, 1.00000e+00, 1.65349e+05, 1.36897e+05, 4.71784e+05],\n",
       "       [0.00000e+00, 0.00000e+00, 1.62597e+05, 1.51377e+05, 4.43898e+05],\n",
       "       [1.00000e+00, 0.00000e+00, 1.53441e+05, 1.01145e+05, 4.07934e+05],\n",
       "       [0.00000e+00, 1.00000e+00, 1.44372e+05, 1.18671e+05, 3.83199e+05],\n",
       "       [1.00000e+00, 0.00000e+00, 1.42107e+05, 9.13910e+04, 3.66168e+05],\n",
       "       [0.00000e+00, 1.00000e+00, 1.31876e+05, 9.98140e+04, 3.62861e+05],\n",
       "       [0.00000e+00, 0.00000e+00, 1.34615e+05, 1.47198e+05, 1.27716e+05],\n",
       "       [1.00000e+00, 0.00000e+00, 1.30298e+05, 1.45530e+05, 3.23876e+05],\n",
       "       [0.00000e+00, 1.00000e+00, 1.20542e+05, 1.48718e+05, 3.11613e+05],\n",
       "       [0.00000e+00, 0.00000e+00, 1.23334e+05, 1.08679e+05, 3.04981e+05],\n",
       "       [1.00000e+00, 0.00000e+00, 1.01913e+05, 1.10594e+05, 2.29160e+05],\n",
       "       [0.00000e+00, 0.00000e+00, 1.00671e+05, 9.17900e+04, 2.49744e+05],\n",
       "       [1.00000e+00, 0.00000e+00, 9.38630e+04, 1.27320e+05, 2.49839e+05],\n",
       "       [0.00000e+00, 0.00000e+00, 9.19920e+04, 1.35495e+05, 2.52664e+05],\n",
       "       [1.00000e+00, 0.00000e+00, 1.19943e+05, 1.56547e+05, 2.56512e+05],\n",
       "       [0.00000e+00, 1.00000e+00, 1.14523e+05, 1.22616e+05, 2.61776e+05],\n",
       "       [0.00000e+00, 0.00000e+00, 7.80130e+04, 1.21597e+05, 2.64346e+05],\n",
       "       [0.00000e+00, 1.00000e+00, 9.46570e+04, 1.45077e+05, 2.82574e+05],\n",
       "       [1.00000e+00, 0.00000e+00, 9.17490e+04, 1.14175e+05, 2.94919e+05],\n",
       "       [0.00000e+00, 1.00000e+00, 8.64190e+04, 1.53514e+05, 0.00000e+00],\n",
       "       [0.00000e+00, 0.00000e+00, 7.62530e+04, 1.13867e+05, 2.98664e+05],\n",
       "       [0.00000e+00, 1.00000e+00, 7.83890e+04, 1.53773e+05, 2.99737e+05],\n",
       "       [1.00000e+00, 0.00000e+00, 7.39940e+04, 1.22782e+05, 3.03319e+05],\n",
       "       [1.00000e+00, 0.00000e+00, 6.75320e+04, 1.05751e+05, 3.04768e+05],\n",
       "       [0.00000e+00, 1.00000e+00, 7.70440e+04, 9.92810e+04, 1.40574e+05],\n",
       "       [0.00000e+00, 0.00000e+00, 6.46640e+04, 1.39553e+05, 1.37962e+05],\n",
       "       [1.00000e+00, 0.00000e+00, 7.53280e+04, 1.44135e+05, 1.34050e+05],\n",
       "       [0.00000e+00, 1.00000e+00, 7.21070e+04, 1.27864e+05, 3.53183e+05],\n",
       "       [1.00000e+00, 0.00000e+00, 6.60510e+04, 1.82645e+05, 1.18148e+05],\n",
       "       [0.00000e+00, 1.00000e+00, 6.56050e+04, 1.53032e+05, 1.07138e+05],\n",
       "       [1.00000e+00, 0.00000e+00, 6.19940e+04, 1.15641e+05, 9.11310e+04],\n",
       "       [0.00000e+00, 1.00000e+00, 6.11360e+04, 1.52701e+05, 8.82180e+04],\n",
       "       [0.00000e+00, 0.00000e+00, 6.34080e+04, 1.29219e+05, 4.60850e+04],\n",
       "       [1.00000e+00, 0.00000e+00, 5.54930e+04, 1.03057e+05, 2.14634e+05],\n",
       "       [0.00000e+00, 0.00000e+00, 4.64260e+04, 1.57693e+05, 2.10797e+05],\n",
       "       [0.00000e+00, 1.00000e+00, 4.60140e+04, 8.50470e+04, 2.05517e+05],\n",
       "       [1.00000e+00, 0.00000e+00, 2.86630e+04, 1.27056e+05, 2.01126e+05],\n",
       "       [0.00000e+00, 0.00000e+00, 4.40690e+04, 5.12830e+04, 1.97029e+05],\n",
       "       [0.00000e+00, 1.00000e+00, 2.02290e+04, 6.59470e+04, 1.85265e+05],\n",
       "       [0.00000e+00, 0.00000e+00, 3.85580e+04, 8.29820e+04, 1.74999e+05],\n",
       "       [0.00000e+00, 0.00000e+00, 2.87540e+04, 1.18546e+05, 1.72795e+05],\n",
       "       [1.00000e+00, 0.00000e+00, 2.78920e+04, 8.47100e+04, 1.64470e+05],\n",
       "       [0.00000e+00, 0.00000e+00, 2.36400e+04, 9.61890e+04, 1.48001e+05],\n",
       "       [0.00000e+00, 1.00000e+00, 1.55050e+04, 1.27382e+05, 3.55340e+04],\n",
       "       [0.00000e+00, 0.00000e+00, 2.21770e+04, 1.54806e+05, 2.83340e+04],\n",
       "       [0.00000e+00, 1.00000e+00, 1.00000e+03, 1.24153e+05, 1.90300e+03],\n",
       "       [1.00000e+00, 0.00000e+00, 1.31500e+03, 1.15816e+05, 2.97114e+05],\n",
       "       [0.00000e+00, 0.00000e+00, 0.00000e+00, 1.35426e+05, 0.00000e+00],\n",
       "       [0.00000e+00, 1.00000e+00, 5.42000e+02, 5.17430e+04, 0.00000e+00],\n",
       "       [0.00000e+00, 0.00000e+00, 0.00000e+00, 1.16983e+05, 4.51730e+04]])"
      ]
     },
     "execution_count": 21,
     "metadata": {},
     "output_type": "execute_result"
    }
   ],
   "source": [
    "X"
   ]
  },
  {
   "cell_type": "code",
   "execution_count": null,
   "metadata": {},
   "outputs": [],
   "source": []
  }
 ],
 "metadata": {
  "kernelspec": {
   "display_name": "Python 3",
   "language": "python",
   "name": "python3"
  },
  "language_info": {
   "codemirror_mode": {
    "name": "ipython",
    "version": 3
   },
   "file_extension": ".py",
   "mimetype": "text/x-python",
   "name": "python",
   "nbconvert_exporter": "python",
   "pygments_lexer": "ipython3",
   "version": "3.6.4"
  }
 },
 "nbformat": 4,
 "nbformat_minor": 2
}
